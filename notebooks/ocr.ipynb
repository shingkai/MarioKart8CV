{
 "cells": [
  {
   "cell_type": "code",
   "execution_count": null,
   "metadata": {},
   "outputs": [],
   "source": [
    "import cv2\n",
    "import matplotlib.pyplot as plt\n",
    "import pytesseract\n",
    "\n",
    "image_path = \"../../race_videos/training_fullres/frames/0/000012.png\"\n",
    "\n",
    "# Read the image from disk\n",
    "image = cv2.imread(image_path)\n",
    "\n",
    "# convert image so its plottable im jupyter\n",
    "plt.imshow(cv2.cvtColor(image, cv2.COLOR_BGR2RGB))\n"
   ]
  },
  {
   "cell_type": "code",
   "execution_count": null,
   "metadata": {},
   "outputs": [],
   "source": [
    "# Convert the image to grayscale\n",
    "gray = cv2.cvtColor(image, cv2.COLOR_BGR2GRAY)\n",
    "plt.imshow(cv2.cvtColor(gray, cv2.COLOR_BGR2RGB))"
   ]
  },
  {
   "cell_type": "code",
   "execution_count": null,
   "metadata": {},
   "outputs": [],
   "source": [
    "# crop to just the bottom 60 pixels of the image\n",
    "cropped = image[300:360, :]\n",
    "plt.imshow(cv2.cvtColor(cropped, cv2.COLOR_BGR2RGB))\n",
    "\n",
    "pytesseract.image_to_string(cropped, config='--oem 3 --psm 8 -c tessedit_char_whitelist=0123456789/')"
   ]
  },
  {
   "cell_type": "code",
   "execution_count": null,
   "metadata": {},
   "outputs": [],
   "source": [
    "# p1_coins': (0.053125, 0.916, 0.0375, 0.0556),\n",
    "\n",
    "h = 1080\n",
    "w = 1920\n",
    "\n",
    "y1 = round(h * 0.92)\n",
    "y2 = round(h * 0.965)\n",
    "x1 = round(w * 0.056)\n",
    "x2 = round(w * 0.088)\n",
    "\n",
    "# crop to just p1 coin count\n",
    "cropped = image[y1:y2, x1:x2]\n",
    "plt.imshow(cv2.cvtColor(cropped, cv2.COLOR_BGR2RGB))\n",
    "\n",
    "# pytesseract.image_to_string(cropped, config='--oem 3 --psm 10 -c tessedit_char_whitelist=0123456789')\n",
    "pytesseract.image_to_string(cropped, config='--oem 1 --psm 6 digits')"
   ]
  },
  {
   "cell_type": "code",
   "execution_count": null,
   "metadata": {},
   "outputs": [],
   "source": [
    "edges = cv2.Canny(cropped, threshold1=100, threshold2=200)\n",
    "plt.imshow(cv2.cvtColor(edges, cv2.COLOR_BGR2RGB))\n",
    "\n",
    "pytesseract.image_to_string(cropped, config='--psm 6 digits')"
   ]
  },
  {
   "cell_type": "code",
   "execution_count": null,
   "metadata": {},
   "outputs": [],
   "source": [
    "inverted = 255 - cropped\n",
    "plt.imshow(cv2.cvtColor(inverted, cv2.COLOR_BGR2RGB))\n",
    "\n",
    "pytesseract.image_to_string(inverted, config='--oem 3 --psm 6 -c tessedit_char_whitelist=0123456789')"
   ]
  },
  {
   "cell_type": "code",
   "execution_count": null,
   "metadata": {},
   "outputs": [],
   "source": [
    "scaled = cv2.resize(cropped, (100, 100))\n",
    "plt.imshow(cv2.cvtColor(scaled, cv2.COLOR_BGR2RGB))\n",
    "\n",
    "pytesseract.image_to_string(scaled, config='--oem 3 --psm 6 digits')"
   ]
  },
  {
   "cell_type": "code",
   "execution_count": null,
   "metadata": {},
   "outputs": [],
   "source": [
    "scaled_invert = 255 - scaled\n",
    "plt.imshow(cv2.cvtColor(scaled_invert, cv2.COLOR_BGR2RGB))\n",
    "\n",
    "pytesseract.image_to_string(scaled_invert, config='--oem 3 --psm 6 digits')"
   ]
  },
  {
   "cell_type": "code",
   "execution_count": null,
   "metadata": {},
   "outputs": [],
   "source": [
    "contrast = 2 * scaled\n",
    "plt.imshow(cv2.cvtColor(contrast, cv2.COLOR_BGR2RGB))\n",
    "\n",
    "pytesseract.image_to_string(scaled, config='--oem 3 --psm 8 -c tessedit_char_whitelist=0123456789')"
   ]
  },
  {
   "cell_type": "code",
   "execution_count": null,
   "metadata": {},
   "outputs": [],
   "source": [
    "import numpy as np\n",
    "\n",
    "ret, thresh = cv2.threshold(cropped, 110, 255, cv2.THRESH_BINARY) \n",
    "kernel = np.ones((3,3),np.uint8)\n",
    "kerneled = cv2.erode(thresh,kernel,iterations = 1)\n",
    "\n",
    "plt.imshow(cv2.cvtColor(kerneled, cv2.COLOR_BGR2RGB))\n"
   ]
  },
  {
   "cell_type": "code",
   "execution_count": null,
   "metadata": {},
   "outputs": [],
   "source": []
  }
 ],
 "metadata": {
  "kernelspec": {
   "display_name": ".venv",
   "language": "python",
   "name": "python3"
  },
  "language_info": {
   "codemirror_mode": {
    "name": "ipython",
    "version": 3
   },
   "file_extension": ".py",
   "mimetype": "text/x-python",
   "name": "python",
   "nbconvert_exporter": "python",
   "pygments_lexer": "ipython3"
  }
 },
 "nbformat": 4,
 "nbformat_minor": 2
}
