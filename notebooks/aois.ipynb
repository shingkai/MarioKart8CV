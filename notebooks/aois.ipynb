{
 "cells": [
  {
   "cell_type": "code",
   "execution_count": null,
   "metadata": {},
   "outputs": [],
   "source": [
    "import matplotlib.pyplot as plt\n",
    "from PIL import Image, ImageDraw\n",
    "\n",
    "def draw_multiple_boxes(image_path, boxes):\n",
    "    \"\"\"\n",
    "    Draw multiple boxes on an image and display it.\n",
    "    \n",
    "    Parameters:\n",
    "    image_path (str): Path to the input image file\n",
    "    boxes (list): List of tuples, each containing (x_min, y_min, x_max, y_max) as percentages\n",
    "    \"\"\"\n",
    "    # Open the image\n",
    "    with Image.open(image_path) as img:\n",
    "        # Get the image dimensions\n",
    "        width, height = img.size\n",
    "\n",
    "        # Create a drawing object\n",
    "        draw = ImageDraw.Draw(img)\n",
    "\n",
    "        # Draw each box\n",
    "        for box in boxes:\n",
    "            x1, x2, y1, y2 = box\n",
    "            pixel_box = (\n",
    "                round(x1 * width),\n",
    "                round(y1 * height),\n",
    "                round(x2 * width),\n",
    "                round(y2 * height)\n",
    "            )\n",
    "            draw.rectangle(pixel_box, outline=\"red\", width=2)\n",
    "\n",
    "        # Display the image\n",
    "        plt.figure(figsize=(10, 10))\n",
    "        plt.imshow(img)\n",
    "        plt.axis('off')\n",
    "        plt.title(\"Image with Drawn Boxes\")\n",
    "        plt.show()\n",
    "\n",
    "# Example usage\n",
    "# boxes = [(0.1, 0.1, 0.5, 0.5), (0.6, 0.6, 0.9, 0.9)]\n",
    "# draw_multiple_boxes('path/to/your/image.jpg', boxes)"
   ]
  },
  {
   "cell_type": "code",
   "execution_count": null,
   "metadata": {},
   "outputs": [],
   "source": [
    "boxes = [(53, 30, 50, 50), # P1 1st item\n",
    "         (536, 30, 50, 50), # P2 1st item\n",
    "         (26, 20, 25, 25), # P1 2nd item\n",
    "         (586, 20, 25, 25), # P2 2nd item\n",
    "         (240, 300, 50, 50), # P1 place\n",
    "         (560, 300, 50, 50), # P2 place\n",
    "         (34, 330, 24, 20), # P1 coins\n",
    "         (353, 330, 24, 20), # P2 coins\n",
    "         (72, 330, 32, 20), # P1 place\n",
    "         (391, 330, 32, 20), # P2 place\n",
    "         ]"
   ]
  },
  {
   "cell_type": "code",
   "execution_count": null,
   "metadata": {},
   "outputs": [],
   "source": [
    "boxes = [\n",
    "        (0.08, 0.164, 0.08, 0.23),  # P1 1st item\n",
    "        (0.039, 0.082, 0.047, 0.13),  # P1 2nd item\n",
    "        (0.03, 0.09, 0.91, 0.97), # P1 coins\n",
    "        (0.09, 0.17, 0.91, 0.97), # P1 lap\n",
    "        (0.38, 0.47, 0.84, 0.97), # P1 position\n",
    "\n",
    "        (0.834, 0.918, 0.08, 0.23),  # P2 1st item\n",
    "        (0.915, 0.958, 0.047, 0.13),  # P2 2nd item\n",
    "        (0.53, 0.59, 0.91, 0.97), # P2 coins\n",
    "        (0.59, 0.67, 0.91, 0.97), # P2 lap\n",
    "        (0.88, 0.97, 0.84, 0.97), # P2 position\n",
    "]\n",
    "\n",
    "draw_multiple_boxes(\"../../race_videos/vlcsnap-2024-10-09-19h51m03s535.png\", boxes)"
   ]
  },
  {
   "cell_type": "code",
   "execution_count": null,
   "metadata": {},
   "outputs": [],
   "source": [
    "import cv2\n",
    "\n",
    "coins = cv2.imread(\"/Users/shingkai/code/personal-projects/mk8/race_videos/training/mirror_flower_cup/p1_coins/0/014484.png\", 0)\n",
    "coins = coins[18:52, 56:106]\n",
    "cv2.imwrite(\"/Users/shingkai/code/personal-projects/mk8/race_videos/training/templates/coins/02.png\", coins)\n",
    "plt.imshow(cv2.cvtColor(coins, cv2.COLOR_BGR2RGB))\n"
   ]
  },
  {
   "cell_type": "code",
   "execution_count": null,
   "metadata": {},
   "outputs": [],
   "source": []
  }
 ],
 "metadata": {
  "kernelspec": {
   "display_name": ".venv",
   "language": "python",
   "name": "python3"
  },
  "language_info": {
   "codemirror_mode": {
    "name": "ipython",
    "version": 3
   },
   "file_extension": ".py",
   "mimetype": "text/x-python",
   "name": "python",
   "nbconvert_exporter": "python",
   "pygments_lexer": "ipython3"
  }
 },
 "nbformat": 4,
 "nbformat_minor": 2
}
